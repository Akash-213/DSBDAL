{
 "cells": [
  {
   "cell_type": "markdown",
   "id": "6da1b9a7",
   "metadata": {},
   "source": [
    "### Name : Akash Kulkarni\n",
    "### Roll No : 33241\n",
    "### Batch : K-10"
   ]
  },
  {
   "cell_type": "markdown",
   "id": "c80fc679",
   "metadata": {},
   "source": [
    "## Problem Statement : \n",
    "Create a review web scraper for ecommerce to fetch real time comments, reviews, ratings, comments, names"
   ]
  },
  {
   "cell_type": "code",
   "execution_count": 1,
   "id": "081d443a",
   "metadata": {},
   "outputs": [],
   "source": [
    "# import libraries \n",
    "import pandas as pd\n",
    "from bs4 import BeautifulSoup\n",
    "import requests"
   ]
  },
  {
   "cell_type": "code",
   "execution_count": 2,
   "id": "6f56553d",
   "metadata": {},
   "outputs": [
    {
     "name": "stdout",
     "output_type": "stream",
     "text": [
      "Web Scraping Status :  200\n"
     ]
    }
   ],
   "source": [
    "# Connect to Website and pull in data\n",
    "\n",
    "URL = 'https://www.amazon.in/dp/B08T6THSMQ/ref=sspa_dk_detail_2?psc=1&pd_rd_i=B08T6THSMQ&pd_rd_w=9YTVi&pf_rd_p=4e9225d2-7473-4eb0-95d5-670190275218&pd_rd_wg=prnWP&pf_rd_r=CSTT2RHJ365D14G71TBC&pd_rd_r=68a578c2-b592-4588-88a2-3cf5051d7e6e&s=computers&spLa=ZW5jcnlwdGVkUXVhbGlmaWVyPUEyVUlSNlJHNEZQUzRRJmVuY3J5cHRlZElkPUEwMDAwMjI1M1Q3ME5QQkpWWjJTVCZlbmNyeXB0ZWRBZElkPUEwMzE3ODgxMUFUUEtJS1ROOEZSWiZ3aWRnZXROYW1lPXNwX2RldGFpbCZhY3Rpb249Y2xpY2tSZWRpcmVjdCZkb05vdExvZ0NsaWNrPXRydWU='\n",
    "\n",
    "headers = {\"User-Agent\": \"Mozilla/5.0 (Windows NT 10.0; Win64; x64) AppleWebKit/537.36 (KHTML, like Gecko) Chrome/78.0.3904.108 Safari/537.36\", \"Accept-Encoding\":\"gzip, deflate\", \"Accept\":\"text/html,application/xhtml+xml,application/xml;q=0.9,*/*;q=0.8\", \"DNT\":\"1\",\"Connection\":\"close\", \"Upgrade-Insecure-Requests\":\"1\"}\n",
    "\n",
    "page = requests.get(URL, headers=headers)\n",
    "\n",
    "print(\"Web Scraping Status : \", page.status_code)\n",
    "\n",
    "soup1 = BeautifulSoup(page.content, \"html.parser\")\n",
    "soup2 = BeautifulSoup(soup1.prettify(), \"html.parser\")\n",
    "\n",
    "df = pd.DataFrame()"
   ]
  },
  {
   "cell_type": "code",
   "execution_count": 3,
   "id": "544f9152",
   "metadata": {},
   "outputs": [],
   "source": [
    "raw_profiles = soup1.find_all(\"span\",class_=\"a-profile-name\")\n",
    "profiles = []\n",
    "\n",
    "for profile in raw_profiles:\n",
    "    profiles.append(profile.get_text().strip())\n",
    "    \n",
    "profiles = profiles[0:8]\n",
    "df[\"profiles\"] = profiles"
   ]
  },
  {
   "cell_type": "code",
   "execution_count": 4,
   "id": "8d33e498",
   "metadata": {},
   "outputs": [],
   "source": [
    "raw_dates = soup1.find_all(\"span\",{'data-hook': \"review-date\"})\n",
    "dates = []\n",
    "\n",
    "for date in raw_dates:\n",
    "    dates.append(date.get_text().strip())\n",
    "    \n",
    "df[\"dates\"] = dates"
   ]
  },
  {
   "cell_type": "code",
   "execution_count": 5,
   "id": "8da2aae4",
   "metadata": {},
   "outputs": [],
   "source": [
    "raw_title = soup1.find_all(\"a\",{\"data-hook\" : \"review-title\"})\n",
    "titles = []\n",
    "\n",
    "for title in raw_title:\n",
    "    titles.append(title.get_text().strip())\n",
    "    \n",
    "df[\"titles\"] = titles"
   ]
  },
  {
   "cell_type": "code",
   "execution_count": 6,
   "id": "acda6ca8",
   "metadata": {},
   "outputs": [],
   "source": [
    "raw_stars = soup1.find_all(\"i\",{\"data-hook\" : \"review-star-rating\"})\n",
    "stars = []\n",
    "\n",
    "for star in raw_stars:\n",
    "    stars.append(star.get_text().strip())\n",
    "\n",
    "df[\"stars\"] = stars"
   ]
  },
  {
   "cell_type": "code",
   "execution_count": 7,
   "id": "84cddfbf",
   "metadata": {},
   "outputs": [],
   "source": [
    "reviews_raw = soup1.find_all(\"div\",class_=\"a-expander-content reviewText review-text-content a-expander-partial-collapse-content\")\n",
    "reviews = []\n",
    "\n",
    "for review in reviews_raw:\n",
    "    reviews.append(review.get_text().strip())\n",
    "    \n",
    "df[\"reviews\"] = reviews"
   ]
  },
  {
   "cell_type": "code",
   "execution_count": 8,
   "id": "d40f80f4",
   "metadata": {},
   "outputs": [],
   "source": [
    "raw_comments = soup1.find_all(\"span\",class_=\"a-size-base a-color-tertiary cr-vote-text\")\n",
    "comments = []\n",
    "\n",
    "for com in raw_comments:\n",
    "    comments.append(com.get_text().strip())\n",
    "    \n",
    "df[\"comments\"] = comments"
   ]
  },
  {
   "cell_type": "code",
   "execution_count": 9,
   "id": "08d82d2f",
   "metadata": {},
   "outputs": [
    {
     "data": {
      "text/html": [
       "<div>\n",
       "<style scoped>\n",
       "    .dataframe tbody tr th:only-of-type {\n",
       "        vertical-align: middle;\n",
       "    }\n",
       "\n",
       "    .dataframe tbody tr th {\n",
       "        vertical-align: top;\n",
       "    }\n",
       "\n",
       "    .dataframe thead th {\n",
       "        text-align: right;\n",
       "    }\n",
       "</style>\n",
       "<table border=\"1\" class=\"dataframe\">\n",
       "  <thead>\n",
       "    <tr style=\"text-align: right;\">\n",
       "      <th></th>\n",
       "      <th>profiles</th>\n",
       "      <th>dates</th>\n",
       "      <th>titles</th>\n",
       "      <th>stars</th>\n",
       "      <th>reviews</th>\n",
       "      <th>comments</th>\n",
       "    </tr>\n",
       "  </thead>\n",
       "  <tbody>\n",
       "    <tr>\n",
       "      <th>0</th>\n",
       "      <td>Amazon Customer</td>\n",
       "      <td>Reviewed in India on 7 June 2021</td>\n",
       "      <td>Best Laptop under 40k</td>\n",
       "      <td>5.0 out of 5 stars</td>\n",
       "      <td>This laptop is perfect for home and student us...</td>\n",
       "      <td>647 people found this helpful</td>\n",
       "    </tr>\n",
       "    <tr>\n",
       "      <th>1</th>\n",
       "      <td>Amazon Customer</td>\n",
       "      <td>Reviewed in India on 10 February 2021</td>\n",
       "      <td>Ryzen 3  3250U much better than core  i3 10th ...</td>\n",
       "      <td>5.0 out of 5 stars</td>\n",
       "      <td>One of the best product at this price....</td>\n",
       "      <td>263 people found this helpful</td>\n",
       "    </tr>\n",
       "    <tr>\n",
       "      <th>2</th>\n",
       "      <td>Amazon Customer</td>\n",
       "      <td>Reviewed in India on 7 February 2021</td>\n",
       "      <td>All in all</td>\n",
       "      <td>4.0 out of 5 stars</td>\n",
       "      <td>Very good .... After use of 9 months (updated)</td>\n",
       "      <td>246 people found this helpful</td>\n",
       "    </tr>\n",
       "    <tr>\n",
       "      <th>3</th>\n",
       "      <td>Shubhankar</td>\n",
       "      <td>Reviewed in India on 15 May 2021</td>\n",
       "      <td>Highly recommended. Go for it.</td>\n",
       "      <td>5.0 out of 5 stars</td>\n",
       "      <td>Best laptop under 40k. 1TB HDD, 256GB SSD, 8GB...</td>\n",
       "      <td>75 people found this helpful</td>\n",
       "    </tr>\n",
       "    <tr>\n",
       "      <th>4</th>\n",
       "      <td>karthik.v</td>\n",
       "      <td>Reviewed in India on 7 February 2021</td>\n",
       "      <td>Good</td>\n",
       "      <td>5.0 out of 5 stars</td>\n",
       "      <td>The media could not be loaded.\\n              ...</td>\n",
       "      <td>65 people found this helpful</td>\n",
       "    </tr>\n",
       "    <tr>\n",
       "      <th>5</th>\n",
       "      <td>Kushal Mukherjee</td>\n",
       "      <td>Reviewed in India on 17 June 2021</td>\n",
       "      <td>Poor laptop for 41K - freezes with MS Teams</td>\n",
       "      <td>1.0 out of 5 stars</td>\n",
       "      <td>I bought this laptop for remote schooling of k...</td>\n",
       "      <td>56 people found this helpful</td>\n",
       "    </tr>\n",
       "    <tr>\n",
       "      <th>6</th>\n",
       "      <td>Kushal Mukherjee</td>\n",
       "      <td>Reviewed in India on 18 June 2021</td>\n",
       "      <td>Does not work with microsoft teams app. it fre...</td>\n",
       "      <td>1.0 out of 5 stars</td>\n",
       "      <td>I don't know how I missed the review given by ...</td>\n",
       "      <td>44 people found this helpful</td>\n",
       "    </tr>\n",
       "    <tr>\n",
       "      <th>7</th>\n",
       "      <td>Yaswanth</td>\n",
       "      <td>Reviewed in India on 2 May 2021</td>\n",
       "      <td>Unsure of the Configuration</td>\n",
       "      <td>1.0 out of 5 stars</td>\n",
       "      <td>This laptop is overall a really good package, ...</td>\n",
       "      <td>40 people found this helpful</td>\n",
       "    </tr>\n",
       "  </tbody>\n",
       "</table>\n",
       "</div>"
      ],
      "text/plain": [
       "           profiles                                  dates  \\\n",
       "0   Amazon Customer       Reviewed in India on 7 June 2021   \n",
       "1   Amazon Customer  Reviewed in India on 10 February 2021   \n",
       "2   Amazon Customer   Reviewed in India on 7 February 2021   \n",
       "3        Shubhankar       Reviewed in India on 15 May 2021   \n",
       "4         karthik.v   Reviewed in India on 7 February 2021   \n",
       "5  Kushal Mukherjee      Reviewed in India on 17 June 2021   \n",
       "6  Kushal Mukherjee      Reviewed in India on 18 June 2021   \n",
       "7          Yaswanth        Reviewed in India on 2 May 2021   \n",
       "\n",
       "                                              titles               stars  \\\n",
       "0                              Best Laptop under 40k  5.0 out of 5 stars   \n",
       "1  Ryzen 3  3250U much better than core  i3 10th ...  5.0 out of 5 stars   \n",
       "2                                         All in all  4.0 out of 5 stars   \n",
       "3                     Highly recommended. Go for it.  5.0 out of 5 stars   \n",
       "4                                               Good  5.0 out of 5 stars   \n",
       "5        Poor laptop for 41K - freezes with MS Teams  1.0 out of 5 stars   \n",
       "6  Does not work with microsoft teams app. it fre...  1.0 out of 5 stars   \n",
       "7                        Unsure of the Configuration  1.0 out of 5 stars   \n",
       "\n",
       "                                             reviews  \\\n",
       "0  This laptop is perfect for home and student us...   \n",
       "1          One of the best product at this price....   \n",
       "2     Very good .... After use of 9 months (updated)   \n",
       "3  Best laptop under 40k. 1TB HDD, 256GB SSD, 8GB...   \n",
       "4  The media could not be loaded.\\n              ...   \n",
       "5  I bought this laptop for remote schooling of k...   \n",
       "6  I don't know how I missed the review given by ...   \n",
       "7  This laptop is overall a really good package, ...   \n",
       "\n",
       "                        comments  \n",
       "0  647 people found this helpful  \n",
       "1  263 people found this helpful  \n",
       "2  246 people found this helpful  \n",
       "3   75 people found this helpful  \n",
       "4   65 people found this helpful  \n",
       "5   56 people found this helpful  \n",
       "6   44 people found this helpful  \n",
       "7   40 people found this helpful  "
      ]
     },
     "execution_count": 9,
     "metadata": {},
     "output_type": "execute_result"
    }
   ],
   "source": [
    "df"
   ]
  }
 ],
 "metadata": {
  "kernelspec": {
   "display_name": "Python 3",
   "language": "python",
   "name": "python3"
  },
  "language_info": {
   "codemirror_mode": {
    "name": "ipython",
    "version": 3
   },
   "file_extension": ".py",
   "mimetype": "text/x-python",
   "name": "python",
   "nbconvert_exporter": "python",
   "pygments_lexer": "ipython3",
   "version": "3.8.8"
  }
 },
 "nbformat": 4,
 "nbformat_minor": 5
}
